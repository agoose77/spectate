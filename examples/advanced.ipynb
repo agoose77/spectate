{
 "cells": [
  {
   "cell_type": "code",
   "execution_count": 1,
   "metadata": {
    "collapsed": false
   },
   "outputs": [],
   "source": [
    "from spectate import Sentinel, Spectator, WatchedType"
   ]
  },
  {
   "cell_type": "code",
   "execution_count": 2,
   "metadata": {
    "collapsed": false
   },
   "outputs": [],
   "source": [
    "Empty = Sentinel('Empty')\n",
    "\n",
    "class DictSpectator(Spectator):\n",
    "    \n",
    "    def __init__(self, inst):\n",
    "        super(DictSpectator, self).__init__(inst)\n",
    "        self._change = {'old': None, 'new': None}\n",
    "\n",
    "    def instance_will_call(self, name, args, kwargs):\n",
    "        self._handlers[name](self, *args, **kwargs)\n",
    "    \n",
    "    def _write_change(self, k, v):\n",
    "        if self._change['old'] is not None:\n",
    "            o = self._change['old']\n",
    "        else:\n",
    "            o = {}\n",
    "            self._change['old'] = o\n",
    "        if self._change['new'] is not None:\n",
    "            n = self._change['new']\n",
    "        else:\n",
    "            n = {}\n",
    "            self._change['new'] = n\n",
    "        o[k] = self.inst.get(k, Empty)\n",
    "        n[k] = v\n",
    "\n",
    "    def _will_setitem(self, k, v):\n",
    "        if k not in self.inst or v != self.inst[k]:\n",
    "            self._write_change(k, v)\n",
    "            \n",
    "    def _will_setdefault(self, k, v):\n",
    "        if k not in self.inst:\n",
    "            self._write_change(k, v)\n",
    "    \n",
    "    def _will_update(self, d):\n",
    "        for k, v in d.items():\n",
    "            self._will_setitem(k, v)\n",
    "    \n",
    "    def _will_pop(self, k):\n",
    "        if k in self.inst:\n",
    "            self._write_change(k, Empty)\n",
    "            \n",
    "    def _will_popitem(self):\n",
    "        k = self.inst.keys()[0]\n",
    "        self._write_change(k, Empty)\n",
    "    \n",
    "    _handlers = {'__setitem__': _will_setitem, 'setdefault': _will_setdefault,\n",
    "        'update': _will_update, 'pop': _will_pop, 'popitem': _will_popitem}\n",
    "         \n",
    "    def instance_post_call(self, name, returned):\n",
    "        o, n = self._change['old'], self._change['new']\n",
    "        if o and n:\n",
    "            print('%s : %r -> %r' % (name, o, n))\n",
    "            self._change['old'] = None\n",
    "            self._change['new'] = None"
   ]
  },
  {
   "cell_type": "code",
   "execution_count": 3,
   "metadata": {
    "collapsed": false
   },
   "outputs": [],
   "source": [
    "watched_methods = ('__setitem__', 'pop', 'update', 'setdefault', 'popitem')\n",
    "WatchedDict = WatchedType('WatchedDict', dict, DictSpectator, watched_methods)"
   ]
  },
  {
   "cell_type": "code",
   "execution_count": 4,
   "metadata": {
    "collapsed": false
   },
   "outputs": [
    {
     "name": "stdout",
     "output_type": "stream",
     "text": [
      "spectator is linked to instance: True\n"
     ]
    }
   ],
   "source": [
    "wd = WatchedDict({'a': 1, 'b':2})\n",
    "sp = wd.instance_spectator\n",
    "\n",
    "msg = \"spectator is linked to instance: %s\"\n",
    "print(msg % (sp.inst is wd))"
   ]
  },
  {
   "cell_type": "code",
   "execution_count": 5,
   "metadata": {
    "collapsed": false
   },
   "outputs": [
    {
     "name": "stdout",
     "output_type": "stream",
     "text": [
      "__setitem__ : {'a': 1} -> {'a': 2}\n",
      "pop : {'a': 2} -> {'a': Empty}\n",
      "popitem : {'b': 2} -> {'b': Empty}\n",
      "setdefault : {'c': Empty} -> {'c': 3}\n",
      "update : {'a': Empty, 'b': Empty} -> {'a': 1, 'b': 2}\n"
     ]
    }
   ],
   "source": [
    "# tests\n",
    "wd['a'] = 2\n",
    "wd.pop('a')\n",
    "wd.popitem()\n",
    "wd.setdefault('c', 3)\n",
    "wd.update({'a':1, 'b':2})\n",
    "# won't notify\n",
    "wd['a'] = 1"
   ]
  },
  {
   "cell_type": "code",
   "execution_count": null,
   "metadata": {
    "collapsed": false
   },
   "outputs": [],
   "source": []
  }
 ],
 "metadata": {
  "kernelspec": {
   "display_name": "Python 2",
   "language": "python",
   "name": "python2"
  },
  "language_info": {
   "codemirror_mode": {
    "name": "ipython",
    "version": 2
   },
   "file_extension": ".py",
   "mimetype": "text/x-python",
   "name": "python",
   "nbconvert_exporter": "python",
   "pygments_lexer": "ipython2",
   "version": "2.7.11"
  }
 },
 "nbformat": 4,
 "nbformat_minor": 1
}
