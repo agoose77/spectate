{
 "cells": [
  {
   "cell_type": "markdown",
   "metadata": {},
   "source": [
    "# Watched Dictionaries\n",
    "\n",
    "---\n",
    "\n",
    "keeping track of key-value changes in a dict"
   ]
  },
  {
   "cell_type": "code",
   "execution_count": 1,
   "metadata": {
    "collapsed": false
   },
   "outputs": [],
   "source": [
    "from spectate import watched_type, Bunch"
   ]
  },
  {
   "cell_type": "markdown",
   "metadata": {},
   "source": [
    "We use `watched_type` to create an `EventfulDict` that enables callbacks before and after an element of the dictionary is set. The funtion's signature requries the name of the new eventful type, a base class from which that new type should inherit, and the series of attributes on that base class which can register a callback. In this case we enable callbacks for methods which can set or delete items:\n",
    "\n",
    "+ `__setitem__`\n",
    "+ `__delitem__`\n",
    "+ `setdefault`\n",
    "+ `popitem`.\n",
    "+ `pop`\n",
    "+ `update`\n"
   ]
  },
  {
   "cell_type": "code",
   "execution_count": 2,
   "metadata": {
    "collapsed": false
   },
   "outputs": [],
   "source": [
    "EventfulDict = watched_type('EventfulList', dict, '__setitem__',\n",
    "    '__delitem__', 'setdefault', 'update', 'pop', 'popitem')"
   ]
  },
  {
   "cell_type": "code",
   "execution_count": 3,
   "metadata": {
    "collapsed": true
   },
   "outputs": [],
   "source": [
    "# a sentinel signifying an empty element\n",
    "class Empty(object):\n",
    "    def __repr__(self): return \"Empty\"\n",
    "Empty = Empty()"
   ]
  },
  {
   "cell_type": "markdown",
   "metadata": {},
   "source": [
    "Beforebacks\n",
    "-----------\n",
    "\n",
    "+ Have a signature of ``(instance, call)``\n",
    "\n",
    "    + ``instance`` is the owner of the method\n",
    "    + ``call`` is a ``Bunch`` with the keys:\n",
    "\n",
    "        + ``'name'`` - the name of the method which was called\n",
    "        + ``'args'`` - the arguments which that method will call\n",
    "        + ``'kwargs'`` - the keywords which that method will call\n",
    "\n",
    "+ Can ``return`` a value which gets passed on to its respective afterback.\n",
    "+ If an error is encountered, the wrapper will ``return`` the original ``call``\n",
    "as if it were that of the beforeback, and set ``error`` in the ``answer``\n",
    "bunch of its afterback. This way, if the base method call is valid, it's not\n",
    "obstructed by a raised beforeback. Thus, beforeback errors should be handled\n",
    "in an afterback.\n",
    "\n",
    "Afterbacks\n",
    "----------\n",
    "\n",
    "+ Have a signature of ``(instance, answer)``\n",
    "\n",
    "    + ``instance`` is the owner of the method\n",
    "    + ``answer`` is a ``Bunch`` with the keys:\n",
    "\n",
    "        + ``'name'`` - the name of the method which was called\n",
    "        + ``'value'`` - the value returned by the method\n",
    "        + ``'before'`` - the value returned by the respective beforeback\n",
    "        + ``'error'`` - None, or the error encountered in the beforeback\n",
    "\n",
    "+ Responcible for raising beforeback errors.\n",
    "+ Should not ``return``"
   ]
  },
  {
   "cell_type": "code",
   "execution_count": 4,
   "metadata": {
    "collapsed": true
   },
   "outputs": [],
   "source": [
    "# beforebacks\n",
    "\n",
    "def will_update(inst, call):\n",
    "    return {k: inst.get(k, Empty) for k, v\n",
    "        in dict(call.args[0]).items()}\n",
    "\n",
    "def will_change_item(inst, call):\n",
    "    return call.args[0], inst.get(call.args[0], Empty)\n",
    "\n",
    "def will_pop_item(inst, call):\n",
    "    k = inst.keys()[0]\n",
    "    return k, inst[k]\n",
    "\n",
    "# afterbacks\n",
    "\n",
    "def did_update(inst, answer):\n",
    "    for k, v in answer.before.items():\n",
    "        did_change_item(inst, Bunch(before=(k, v)))\n",
    "\n",
    "def did_change_item(inst, answer):\n",
    "    key, old = answer.before\n",
    "    new = inst.get(key, Empty)\n",
    "    if new != old:\n",
    "        print(\"{%s: %s} -> {%s: %s}\" %\n",
    "            (key, old, key, new))"
   ]
  },
  {
   "cell_type": "markdown",
   "metadata": {},
   "source": [
    "Instances of `EventfulDict` have a public method `spectator_callback` which is used to store unique callback pairs. \n",
    "\n",
    "Each pair can have a beforeback, and/or an afterback which are specified in the method signature with the keywords `before` and `after`."
   ]
  },
  {
   "cell_type": "code",
   "execution_count": 5,
   "metadata": {
    "collapsed": false
   },
   "outputs": [],
   "source": [
    "edict = EventfulDict({'a': 1, 'b':2})\n",
    "\n",
    "edict.spectator_callback(\n",
    "    '__setitem__', '__delitem__',\n",
    "    'setdefault', 'pop',\n",
    "    before=will_change_item,\n",
    "    after=did_change_item)\n",
    "\n",
    "edict.spectator_callback('popitem',\n",
    "    before=will_pop_item,\n",
    "    after=did_change_item)\n",
    "\n",
    "edict.spectator_callback('update',\n",
    "    before=will_update,\n",
    "    after=did_update)"
   ]
  },
  {
   "cell_type": "code",
   "execution_count": 6,
   "metadata": {
    "collapsed": false
   },
   "outputs": [
    {
     "name": "stdout",
     "output_type": "stream",
     "text": [
      "{a: 1} -> {a: 2}\n",
      "{a: 2} -> {a: Empty}\n",
      "{b: 2} -> {b: Empty}\n",
      "{c: Empty} -> {c: 3}\n",
      "{a: Empty} -> {a: 1}\n",
      "{b: Empty} -> {b: 2}\n",
      "{c: 3} -> {c: Empty}\n"
     ]
    }
   ],
   "source": [
    "# tests\n",
    "edict['a'] = 2\n",
    "edict.pop('a')\n",
    "edict.popitem()\n",
    "edict.setdefault('c', 3)\n",
    "edict.update({'a':1, 'b':2})\n",
    "del edict['c']\n",
    "# won't notify\n",
    "edict['a'] = 1"
   ]
  },
  {
   "cell_type": "code",
   "execution_count": 7,
   "metadata": {
    "collapsed": false
   },
   "outputs": [
    {
     "data": {
      "text/plain": [
       "{'a': 1, 'b': 2}"
      ]
     },
     "execution_count": 7,
     "metadata": {},
     "output_type": "execute_result"
    }
   ],
   "source": [
    "edict"
   ]
  }
 ],
 "metadata": {
  "kernelspec": {
   "display_name": "Python 2",
   "language": "python",
   "name": "python2"
  },
  "language_info": {
   "codemirror_mode": {
    "name": "ipython",
    "version": 2
   },
   "file_extension": ".py",
   "mimetype": "text/x-python",
   "name": "python",
   "nbconvert_exporter": "python",
   "pygments_lexer": "ipython2",
   "version": "2.7.11"
  }
 },
 "nbformat": 4,
 "nbformat_minor": 1
}
