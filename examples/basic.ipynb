{
 "cells": [
  {
   "cell_type": "code",
   "execution_count": 1,
   "metadata": {
    "collapsed": true
   },
   "outputs": [],
   "source": [
    "from spectate import Spectator, WatchedType"
   ]
  },
  {
   "cell_type": "code",
   "execution_count": 2,
   "metadata": {
    "collapsed": true
   },
   "outputs": [],
   "source": [
    "class ListSpectator(Spectator):\n",
    "    \n",
    "    def __init__(self, inst):\n",
    "        super(ListSpectator, self).__init__(inst)\n",
    "        self._change = {'old': None, 'new': None}\n",
    "    \n",
    "    def instance_will_call(self, name, args, kwargs):\n",
    "        # we know the name will be __setitem__\n",
    "        # since that's all we're spectating\n",
    "        index, new = args\n",
    "        try:\n",
    "            old = self.inst[index]\n",
    "        except:\n",
    "            pass\n",
    "        else:\n",
    "            if old != new:\n",
    "                self._change['old'] = {index: old}\n",
    "                self._change['new'] = {index: new}\n",
    "    \n",
    "    def instance_post_call(self, name, returned):\n",
    "        o, n = self._change['old'], self._change['new']\n",
    "        if o and n:\n",
    "            print(\"%s : %r -> %r\" % (name, o, n))\n",
    "            self._change['old'] = None\n",
    "            self._change['new'] = None"
   ]
  },
  {
   "cell_type": "code",
   "execution_count": 3,
   "metadata": {
    "collapsed": false
   },
   "outputs": [],
   "source": [
    "WatchedList = WatchedType('WatchedList', list, ListSpectator, '__setitem__')"
   ]
  },
  {
   "cell_type": "code",
   "execution_count": 4,
   "metadata": {
    "collapsed": true
   },
   "outputs": [],
   "source": [
    "wl = WatchedList([1, 2, 3])"
   ]
  },
  {
   "cell_type": "code",
   "execution_count": 5,
   "metadata": {
    "collapsed": false
   },
   "outputs": [],
   "source": [
    "# does not notify because\n",
    "# values are the same\n",
    "wl[0] = 1"
   ]
  },
  {
   "cell_type": "code",
   "execution_count": 6,
   "metadata": {
    "collapsed": false
   },
   "outputs": [
    {
     "name": "stdout",
     "output_type": "stream",
     "text": [
      "__setitem__ : {0: 1} -> {0: 2}\n"
     ]
    }
   ],
   "source": [
    "# will notify when the\n",
    "# values are different\n",
    "wl[0] = 2"
   ]
  },
  {
   "cell_type": "code",
   "execution_count": null,
   "metadata": {
    "collapsed": true
   },
   "outputs": [],
   "source": []
  }
 ],
 "metadata": {
  "kernelspec": {
   "display_name": "Python 2",
   "language": "python",
   "name": "python2"
  },
  "language_info": {
   "codemirror_mode": {
    "name": "ipython",
    "version": 2
   },
   "file_extension": ".py",
   "mimetype": "text/x-python",
   "name": "python",
   "nbconvert_exporter": "python",
   "pygments_lexer": "ipython2",
   "version": "2.7.11"
  }
 },
 "nbformat": 4,
 "nbformat_minor": 1
}
