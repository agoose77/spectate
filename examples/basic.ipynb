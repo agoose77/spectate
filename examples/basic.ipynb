{
 "cells": [
  {
   "cell_type": "markdown",
   "metadata": {},
   "source": [
    "# Eventful Lists\n",
    "\n",
    "keeping track of element changes in a list"
   ]
  },
  {
   "cell_type": "code",
   "execution_count": 1,
   "metadata": {
    "collapsed": false
   },
   "outputs": [],
   "source": [
    "from spectate import watched_type"
   ]
  },
  {
   "cell_type": "markdown",
   "metadata": {},
   "source": [
    "We use `watched_type` to create an `EventfulDict` that enables callbacks before and after an element of the dictionary is set. The funtion's signature requries the name of the new eventful type, a base class from which that new type should inherit, and the series of attributes on that base class which can register a callback. In this case we enable callbacks for methods which can set or delete items:\n",
    "\n",
    "+ `__setitem__`\n",
    "+ `__delitem__`\n",
    "+ `pop`"
   ]
  },
  {
   "cell_type": "code",
   "execution_count": 2,
   "metadata": {
    "collapsed": false
   },
   "outputs": [],
   "source": [
    "EventfulList = watched_type('EventfulList', list, '__setitem__', '__delitem__', 'pop')"
   ]
  },
  {
   "cell_type": "markdown",
   "metadata": {},
   "source": [
    "Beforebacks\n",
    "-----------\n",
    "\n",
    "+ Have a signature of ``(instance, call)``\n",
    "\n",
    "    + ``instance`` is the owner of the method\n",
    "    + ``call`` is a ``Bunch`` with the keys:\n",
    "\n",
    "        + ``'name'`` - the name of the method which was called\n",
    "        + ``'args'`` - the arguments which that method will call\n",
    "        + ``'kwargs'`` - the keywords which that method will call\n",
    "\n",
    "+ Can ``return`` a value which gets passed on to its respective afterback.\n",
    "+ If an error is encountered, the wrapper will ``return`` the original ``call``\n",
    "as if it were that of the beforeback, and set ``error`` in the ``answer``\n",
    "bunch of its afterback. This way, if the base method call is valid, it's not\n",
    "obstructed by a raised beforeback. Thus, beforeback errors should be handled\n",
    "in an afterback.\n",
    "\n",
    "Afterbacks\n",
    "----------\n",
    "\n",
    "+ Have a signature of ``(instance, answer)``\n",
    "\n",
    "    + ``instance`` is the owner of the method\n",
    "    + ``answer`` is a ``Bunch`` with the keys:\n",
    "\n",
    "        + ``'name'`` - the name of the method which was called\n",
    "        + ``'value'`` - the value returned by the method\n",
    "        + ``'before'`` - the value returned by the respective beforeback\n",
    "        + ``'error'`` - None, or the error encountered in the beforeback\n",
    "\n",
    "+ Responcible for raising beforeback errors.\n",
    "+ Should not ``return``"
   ]
  },
  {
   "cell_type": "code",
   "execution_count": 3,
   "metadata": {
    "collapsed": false
   },
   "outputs": [],
   "source": [
    "# beforeback\n",
    "\n",
    "def pass_on_old_value(inst, call):\n",
    "    index, old = call.args[0], inst[call.args[0]]\n",
    "    return index, old\n",
    "\n",
    "# afterback\n",
    "\n",
    "def print_element_change(inst, answer):\n",
    "    # answer.before = pass_on_old(call)\n",
    "    index, old = answer.before\n",
    "    try:\n",
    "        new = inst[index]\n",
    "    except:\n",
    "        new = ''\n",
    "    if new != old:\n",
    "        print(\"{%s: %s} -> {%s: %s}\" %\n",
    "            (index, old, index, new))"
   ]
  },
  {
   "cell_type": "markdown",
   "metadata": {},
   "source": [
    "Instances of `EventfulList` have a public method `spectator_callback` which is used to store unique callback pairs. \n",
    "\n",
    "Each pair can have a beforeback, and/or an afterback which are specified in the method signature with the keywords `before` and `after`."
   ]
  },
  {
   "cell_type": "code",
   "execution_count": 4,
   "metadata": {
    "collapsed": true
   },
   "outputs": [],
   "source": [
    "elist = EventfulList([1, 2, 3])\n",
    "\n",
    "elist.spectator_callback('pop',\n",
    "    '__delitem__', '__setitem__',\n",
    "    before=pass_on_old_value,\n",
    "    after=print_element_change)"
   ]
  },
  {
   "cell_type": "code",
   "execution_count": 5,
   "metadata": {
    "collapsed": false
   },
   "outputs": [],
   "source": [
    "# does not notify because\n",
    "# values are the same\n",
    "elist[0] = 1"
   ]
  },
  {
   "cell_type": "code",
   "execution_count": 6,
   "metadata": {
    "collapsed": false
   },
   "outputs": [
    {
     "name": "stdout",
     "output_type": "stream",
     "text": [
      "{0: 1} -> {0: 0}\n"
     ]
    }
   ],
   "source": [
    "# will notify when the\n",
    "# values are different\n",
    "elist[0] = 0"
   ]
  },
  {
   "cell_type": "code",
   "execution_count": 7,
   "metadata": {
    "collapsed": false
   },
   "outputs": [
    {
     "name": "stdout",
     "output_type": "stream",
     "text": [
      "{0: 0} -> {0: 2}\n",
      "{0: 2} -> {0: 3}\n"
     ]
    }
   ],
   "source": [
    "# notify when deleting\n",
    "# an element of the list\n",
    "elist.pop(0)\n",
    "del elist[0]"
   ]
  },
  {
   "cell_type": "code",
   "execution_count": 8,
   "metadata": {
    "collapsed": false
   },
   "outputs": [
    {
     "data": {
      "text/plain": [
       "[3]"
      ]
     },
     "execution_count": 8,
     "metadata": {},
     "output_type": "execute_result"
    }
   ],
   "source": [
    "elist"
   ]
  }
 ],
 "metadata": {
  "kernelspec": {
   "display_name": "Python 2",
   "language": "python",
   "name": "python2"
  },
  "language_info": {
   "codemirror_mode": {
    "name": "ipython",
    "version": 2
   },
   "file_extension": ".py",
   "mimetype": "text/x-python",
   "name": "python",
   "nbconvert_exporter": "python",
   "pygments_lexer": "ipython2",
   "version": "2.7.11"
  }
 },
 "nbformat": 4,
 "nbformat_minor": 1
}
