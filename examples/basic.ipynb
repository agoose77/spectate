{
 "cells": [
  {
   "cell_type": "markdown",
   "metadata": {},
   "source": [
    "# Watched Lists\n",
    "\n",
    "---\n",
    "\n",
    "keeping track of element changes in a list"
   ]
  },
  {
   "cell_type": "code",
   "execution_count": 1,
   "metadata": {
    "collapsed": true
   },
   "outputs": [],
   "source": [
    "from spectate import Spectator, WatchedType"
   ]
  },
  {
   "cell_type": "markdown",
   "metadata": {},
   "source": [
    "**`ListSpectator`** inherits from `Spectator` and implements the callbacks `instance_will_call` and `instance_post_call`. This spectator understands what will happen when `list.__setitem__` is called and overrides the preemptive callback `instance_will_call`, which captures the arguments of `__setitem__`, to determine whether an element of the list will change and caches the old and new values if they're different. The overriden callback `instance_post_call` then checks for a change, and prints it if there was."
   ]
  },
  {
   "cell_type": "code",
   "execution_count": 2,
   "metadata": {
    "collapsed": false
   },
   "outputs": [],
   "source": [
    "class ListSpectator(Spectator):\n",
    "    \n",
    "    def __init__(self, base, inst):\n",
    "        super(ListSpectator, self).__init__(base, inst)\n",
    "        self._change = {'old': None, 'new': None}\n",
    "    \n",
    "    def instance_will_call(self, name, args, kwargs):\n",
    "        # we know the name will be __setitem__\n",
    "        # since that's all we're spectating\n",
    "        index, new = args\n",
    "        try:\n",
    "            old = self.inst[index]\n",
    "        except:\n",
    "            pass\n",
    "        else:\n",
    "            if old != new:\n",
    "                self._change['old'] = {index: old}\n",
    "                self._change['new'] = {index: new}\n",
    "    \n",
    "    def instance_post_call(self, name, returned):\n",
    "        o, n = self._change['old'], self._change['new']\n",
    "        if o and n:\n",
    "            print(\"%s : %r -> %r\" % (name, o, n))\n",
    "            self._change['old'] = None\n",
    "            self._change['new'] = None"
   ]
  },
  {
   "cell_type": "markdown",
   "metadata": {},
   "source": [
    "**`WatchedType`** is used to create a `WatchedList` class that assigns a `ListSpectator` to each of its instances."
   ]
  },
  {
   "cell_type": "code",
   "execution_count": 3,
   "metadata": {
    "collapsed": false
   },
   "outputs": [],
   "source": [
    "WatchedList = WatchedType('WatchedList', list, ListSpectator, '__setitem__')"
   ]
  },
  {
   "cell_type": "markdown",
   "metadata": {},
   "source": [
    "The instances of `WatchedList` will behave exactly like a `list` in every way. The only difference being that when a user decides to change the value of a preexisting element (thus envoking `__setitem__`), the instance's spectator is notified, and will print that change once the action is complete."
   ]
  },
  {
   "cell_type": "code",
   "execution_count": 4,
   "metadata": {
    "collapsed": false
   },
   "outputs": [
    {
     "name": "stdout",
     "output_type": "stream",
     "text": [
      "spectator is linked to instance: True\n"
     ]
    }
   ],
   "source": [
    "wl = WatchedList([1, 2, 3])\n",
    "sp = wl.instance_spectator\n",
    "\n",
    "msg = \"spectator is linked to instance: %s\"\n",
    "print(msg % (sp.inst is wl))"
   ]
  },
  {
   "cell_type": "code",
   "execution_count": 5,
   "metadata": {
    "collapsed": false
   },
   "outputs": [],
   "source": [
    "# does not notify because\n",
    "# values are the same\n",
    "wl[0] = 1"
   ]
  },
  {
   "cell_type": "code",
   "execution_count": 6,
   "metadata": {
    "collapsed": false
   },
   "outputs": [
    {
     "name": "stdout",
     "output_type": "stream",
     "text": [
      "__setitem__ : {0: 1} -> {0: 0}\n"
     ]
    }
   ],
   "source": [
    "# will notify when the\n",
    "# values are different\n",
    "wl[0] = 0"
   ]
  },
  {
   "cell_type": "code",
   "execution_count": null,
   "metadata": {
    "collapsed": true
   },
   "outputs": [],
   "source": []
  }
 ],
 "metadata": {
  "kernelspec": {
   "display_name": "Python 2",
   "language": "python",
   "name": "python2"
  },
  "language_info": {
   "codemirror_mode": {
    "name": "ipython",
    "version": 2
   },
   "file_extension": ".py",
   "mimetype": "text/x-python",
   "name": "python",
   "nbconvert_exporter": "python",
   "pygments_lexer": "ipython2",
   "version": "2.7.11"
  }
 },
 "nbformat": 4,
 "nbformat_minor": 1
}
